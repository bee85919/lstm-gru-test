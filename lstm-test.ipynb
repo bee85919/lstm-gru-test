{
 "cells": [
  {
   "cell_type": "markdown",
   "metadata": {},
   "source": [
    "# GRU and LSTM with Stock Data"
   ]
  },
  {
   "cell_type": "code",
   "execution_count": 1,
   "metadata": {},
   "outputs": [],
   "source": [
    "# !pip install yfinance\n",
    "import numpy as np\n",
    "import pandas as pd\n",
    "import matplotlib.pyplot as plt\n",
    "import seaborn as sns\n",
    "import yfinance as yf\n",
    "import sklearn"
   ]
  },
  {
   "cell_type": "markdown",
   "metadata": {},
   "source": [
    "## 1. 주식가격 데이터 불러오기   \n",
    "    * train data: 2013년부너 2018년까지의 일일 주가\n",
    "    * test data : 2019년의 일일 주가"
   ]
  },
  {
   "cell_type": "code",
   "execution_count": 2,
   "metadata": {},
   "outputs": [],
   "source": [
    "# # Mount Google Drive\n",
    "# from google.colab import drive # import drive from google colab\n",
    "\n",
    "# ROOT = \"/content/drive\"     # default location for the drive\n",
    "# print(ROOT)                 # print content of ROOT (Optional)\n",
    "# drive.mount(ROOT)           # we mount the google drive at /content/drive"
   ]
  },
  {
   "cell_type": "code",
   "execution_count": 3,
   "metadata": {},
   "outputs": [
    {
     "name": "stdout",
     "output_type": "stream",
     "text": [
      "There are 1510 observations in the training data\n",
      "There are 251 observations in the test data\n"
     ]
    },
    {
     "data": {
      "text/plain": [
       "<Axes: xlabel='Date'>"
      ]
     },
     "execution_count": 3,
     "metadata": {},
     "output_type": "execute_result"
    },
    {
     "data": {
      "image/png": "[encoded data removed]",
      "text/plain": [
       "<Figure size 640x480 with 1 Axes>"
      ]
     },
     "metadata": {},
     "output_type": "display_data"
    }
   ],
   "source": [
    "# 아마존의 2013년 부터 2018년까지 일일 주가를 학습 데이터로\n",
    "# 2019년 데이터를 테스트 데이터로 사용 \n",
    "\n",
    "AMZN = yf.download('AMZN', \n",
    "                  start = '2013-01-01',\n",
    "                  end = '2019-12-31',\n",
    "                  progress = False)\n",
    "\n",
    "# 수정종가(Adj close), 시가(Open), 최고가(High), 최저가(Low), 종가(Close). 거래량(Volume)\n",
    "all_data = AMZN[['Adj Close', 'Open', 'High','Low',\"Close\",\"Volume\"]].round(2)\n",
    "all_data.head(10)\n",
    "\n",
    "print(\"There are \"+str(all_data[:'2018'].shape[0])+\" observations in the training data\")\n",
    "print(\"There are \"+str(all_data['2019':].shape[0])+\" observations in the test data\")\n",
    "all_data['Adj Close'].plot()"
   ]
  },
  {
   "cell_type": "markdown",
   "metadata": {},
   "source": [
    "## 2. RNN/LSTM을 위한 학습데이터 만들기\n",
    "단변량 주식 가격 시계열로 부터 학습데이터를 생성\n",
    "* MANY 2 MANY\n",
    "* MANY 2 ONE"
   ]
  },
  {
   "cell_type": "markdown",
   "metadata": {},
   "source": [
    "### 2-1. MANY 2 MANY\n",
    "- 과거 X일의 가격을 사용해서 미래 Y일의 가격을 예측\n",
    "- 빨간색 창을 시리즈에 따라 움직여서 __샘플__ 을 만듦\n",
    "- 각 샘플은 5가지 입력값과 2개의 출력값을 가짐\n",
    "- __타임스텝__ : 각 샘플의 입력값\n",
    "- __feature__ : 매 타임스텝마다 feature라고 불리는 하나의 숫자를 가짐. feature의 수는 여러개일 수 있음\n",
    "\n",
    "\n",
    "![image](https://img1.daumcdn.net/thumb/R1280x0/?scode=mtistory2&fname=https%3A%2F%2Fblog.kakaocdn.net%2Fdn%2FbJf0aY%2FbtqUL9JDeyT%2Fp0MlEeFIYl7SkbRCkDwkW0%2Fimg.png)"
   ]
  },
  {
   "cell_type": "markdown",
   "metadata": {},
   "source": [
    "### 2-2. MANY 2 ONE\n",
    "- 출력값 하나\n",
    "\n",
    "![IMAGE](https://img1.daumcdn.net/thumb/R1280x0/?scode=mtistory2&fname=https%3A%2F%2Fblog.kakaocdn.net%2Fdn%2FrTfhY%2FbtqVRwhXa0G%2FRxW8kzcRHT2HbXRZlKP2QK%2Fimg.png)"
   ]
  },
  {
   "cell_type": "markdown",
   "metadata": {},
   "source": [
    "- X가 다차원인 변수를 LSTM 입력을 위해 3차원으로 변형   \n",
    "\n",
    "![image](https://1.bp.blogspot.com/-As5cOG_Fatc/XMR80nemvGI/AAAAAAAAqds/_xQakPgc0uoXMXPDv9pB9-AJxdjsuDWNACLcBGAs/s640/nn.png)    "
   ]
  },
  {
   "cell_type": "markdown",
   "metadata": {},
   "source": [
    "![image](https://4.bp.blogspot.com/-duOcCEd9DJU/XMSJD6kzDJI/AAAAAAAAqd4/xlbs2_fbw248QJGkahI5IJJeOHEMBJKdwCLcBGAs/s400/nn2.png)"
   ]
  },
  {
   "cell_type": "markdown",
   "metadata": {},
   "source": [
    "### 2-3. RNN/LSTM/GRU는 3차원의 배열을 입력\n",
    "- __Tensor__ : 하나의 텐서는 모델에 들어가는 벡터임\n",
    "- __Time Step__ : 하나의 타임스텝은 텐서에서 하나의 관측치\n",
    "- __Feature__ : 한 feature는 그 타임스텝에서 하나의 관측치 "
   ]
  },
  {
   "cell_type": "markdown",
   "metadata": {},
   "source": [
    "따라서 위의 1차원 배열은 3차원 배열로 변경되어야 함   \n",
    "--> [# of samples, # of time steps, # of features]    \n",
    "\n",
    "np.reshape(samples, time steps, features) 로 만듬"
   ]
  },
  {
   "cell_type": "markdown",
   "metadata": {},
   "source": [
    "## 3. RNN/LSTM/GRU 에 정규화된 데이터 필요함\n",
    "- 학습 데이터만 스케일 변환에 사용됨(scaler transformation)\n",
    "- train_x 와 test_x를 독립적으로 스케일링하지 말 것!"
   ]
  },
  {
   "cell_type": "code",
   "execution_count": 4,
   "metadata": {},
   "outputs": [],
   "source": [
    "def ts_train_test(all_data, time_steps, for_periods): \n",
    "    \"\"\"\n",
    "    input:\n",
    "     data: 날짜를 인덱스로 가지는 주식가격(Adj Close) 데이터\n",
    "    output:\n",
    "     X_train, y_train: 2013/1/1부터 2018-12/31까지의 데이터\n",
    "     X_test : 2019년 동안의 데이터 \n",
    "    time_steps: # input 데이터의 time steps\n",
    "    for_periods: # output 데이터의 time steps\n",
    "    \"\"\"\n",
    "    # training & test set 만들기\n",
    "    ts_train = all_data[:'2018'].iloc[:,0:1].values\n",
    "    ts_test = all_data['2019':].iloc[:,0:1].values\n",
    "    ts_train_len = len(ts_train)\n",
    "    ts_test_len = len(ts_test)\n",
    "    \n",
    "    # training 데이터의 samples 와 time steps로 원본데이터 슬라이싱하기\n",
    "    X_train = [] \n",
    "    y_train = [] \n",
    "    y_train_stacked = [] \n",
    "    for i in range(time_steps, ts_train_len - 1):\n",
    "        X_train.append(ts_train[i-time_steps:i,0])\n",
    "        y_train.append(ts_train[i:i+for_periods,0])\n",
    "    X_train, y_train = np.array(X_train), np.array(y_train)\n",
    "    \n",
    "    # 3차원으로 재구성하기\n",
    "    # np.reshape(samples, time steps, features) 로 만듦\n",
    "    X_train = np.reshape(X_train, (X_train.shape[0], X_train.shape[1],1))\n",
    "    \n",
    "    # Preparing to creat X_test \n",
    "    inputs = pd.concat((all_data[\"Adj Close\"][:'2018'], all_data[\"Adj Close\"]['2019':]), axis=0).values\n",
    "    inputs = inputs[len(inputs)-len(ts_test) - time_steps:]\n",
    "    inputs = inputs.reshape(-1,1)\n",
    "    \n",
    "    X_test = []\n",
    "    for i in range(time_steps, ts_test_len+ time_steps- for_periods):\n",
    "        X_test.append(inputs[i-time_steps:i,0])\n",
    "    X_test = np.array(X_test)\n",
    "    X_test = np.reshape(X_test, (X_test.shape[0], X_test.shape[1],1))\n",
    "    \n",
    "    return X_train, y_train, X_test "
   ]
  },
  {
   "cell_type": "code",
   "execution_count": 5,
   "metadata": {},
   "outputs": [
    {
     "data": {
      "text/html": [
       "<div>\n",
       "<style scoped>\n",
       "    .dataframe tbody tr th:only-of-type {\n",
       "        vertical-align: middle;\n",
       "    }\n",
       "\n",
       "    .dataframe tbody tr th {\n",
       "        vertical-align: top;\n",
       "    }\n",
       "\n",
       "    .dataframe thead th {\n",
       "        text-align: right;\n",
       "    }\n",
       "</style>\n",
       "<table border=\"1\" class=\"dataframe\">\n",
       "  <thead>\n",
       "    <tr style=\"text-align: right;\">\n",
       "      <th></th>\n",
       "      <th>0</th>\n",
       "      <th>1</th>\n",
       "      <th>2</th>\n",
       "      <th>3</th>\n",
       "      <th>4</th>\n",
       "    </tr>\n",
       "  </thead>\n",
       "  <tbody>\n",
       "    <tr>\n",
       "      <th>0</th>\n",
       "      <td>67.20</td>\n",
       "      <td>73.54</td>\n",
       "      <td>73.08</td>\n",
       "      <td>73.90</td>\n",
       "      <td>75.10</td>\n",
       "    </tr>\n",
       "    <tr>\n",
       "      <th>1</th>\n",
       "      <td>73.54</td>\n",
       "      <td>73.08</td>\n",
       "      <td>73.90</td>\n",
       "      <td>75.10</td>\n",
       "      <td>76.96</td>\n",
       "    </tr>\n",
       "    <tr>\n",
       "      <th>2</th>\n",
       "      <td>73.08</td>\n",
       "      <td>73.90</td>\n",
       "      <td>75.10</td>\n",
       "      <td>76.96</td>\n",
       "      <td>75.01</td>\n",
       "    </tr>\n",
       "    <tr>\n",
       "      <th>3</th>\n",
       "      <td>73.90</td>\n",
       "      <td>75.10</td>\n",
       "      <td>76.96</td>\n",
       "      <td>75.01</td>\n",
       "      <td>78.77</td>\n",
       "    </tr>\n",
       "    <tr>\n",
       "      <th>4</th>\n",
       "      <td>75.10</td>\n",
       "      <td>76.96</td>\n",
       "      <td>75.01</td>\n",
       "      <td>78.77</td>\n",
       "      <td>81.48</td>\n",
       "    </tr>\n",
       "    <tr>\n",
       "      <th>...</th>\n",
       "      <td>...</td>\n",
       "      <td>...</td>\n",
       "      <td>...</td>\n",
       "      <td>...</td>\n",
       "      <td>...</td>\n",
       "    </tr>\n",
       "    <tr>\n",
       "      <th>244</th>\n",
       "      <td>88.02</td>\n",
       "      <td>88.05</td>\n",
       "      <td>88.46</td>\n",
       "      <td>89.53</td>\n",
       "      <td>89.20</td>\n",
       "    </tr>\n",
       "    <tr>\n",
       "      <th>245</th>\n",
       "      <td>88.05</td>\n",
       "      <td>88.46</td>\n",
       "      <td>89.53</td>\n",
       "      <td>89.20</td>\n",
       "      <td>89.61</td>\n",
       "    </tr>\n",
       "    <tr>\n",
       "      <th>246</th>\n",
       "      <td>88.46</td>\n",
       "      <td>89.53</td>\n",
       "      <td>89.20</td>\n",
       "      <td>89.61</td>\n",
       "      <td>89.32</td>\n",
       "    </tr>\n",
       "    <tr>\n",
       "      <th>247</th>\n",
       "      <td>89.53</td>\n",
       "      <td>89.20</td>\n",
       "      <td>89.61</td>\n",
       "      <td>89.32</td>\n",
       "      <td>89.65</td>\n",
       "    </tr>\n",
       "    <tr>\n",
       "      <th>248</th>\n",
       "      <td>89.20</td>\n",
       "      <td>89.61</td>\n",
       "      <td>89.32</td>\n",
       "      <td>89.65</td>\n",
       "      <td>89.46</td>\n",
       "    </tr>\n",
       "  </tbody>\n",
       "</table>\n",
       "<p>249 rows × 5 columns</p>\n",
       "</div>"
      ],
      "text/plain": [
       "         0      1      2      3      4\n",
       "0    67.20  73.54  73.08  73.90  75.10\n",
       "1    73.54  73.08  73.90  75.10  76.96\n",
       "2    73.08  73.90  75.10  76.96  75.01\n",
       "3    73.90  75.10  76.96  75.01  78.77\n",
       "4    75.10  76.96  75.01  78.77  81.48\n",
       "..     ...    ...    ...    ...    ...\n",
       "244  88.02  88.05  88.46  89.53  89.20\n",
       "245  88.05  88.46  89.53  89.20  89.61\n",
       "246  88.46  89.53  89.20  89.61  89.32\n",
       "247  89.53  89.20  89.61  89.32  89.65\n",
       "248  89.20  89.61  89.32  89.65  89.46\n",
       "\n",
       "[249 rows x 5 columns]"
      ]
     },
     "execution_count": 5,
     "metadata": {},
     "output_type": "execute_result"
    }
   ],
   "source": [
    "X_train, y_train, X_test = ts_train_test(all_data,5,2)\n",
    "\n",
    "# 3차원의 X_train을 데이터프레임 형식으로 바꿔서 눈으로 확인해보기\n",
    "X_train_see = pd.DataFrame(np.reshape(X_train, (X_train.shape[0], X_train.shape[1])))\n",
    "y_train_see = pd.DataFrame(y_train)\n",
    "pd.concat([X_train_see, y_train_see], axis = 1)\n",
    "\n",
    "# 3차원의 X_test를 데이터프레임 형식으로 바꿔서 눈으로 확인해보기\n",
    "X_test_see = pd.DataFrame(np.reshape(X_test, (X_test.shape[0], X_test.shape[1])))\n",
    "pd.DataFrame(X_test_see)"
   ]
  },
  {
   "cell_type": "code",
   "execution_count": 6,
   "metadata": {},
   "outputs": [
    {
     "name": "stdout",
     "output_type": "stream",
     "text": [
      "There are 1504 samples in the training data\n",
      "There are 249 samples in the test data\n"
     ]
    }
   ],
   "source": [
    "print(\"There are \" + str(X_train.shape[0]) + \" samples in the training data\")\n",
    "# There are 1505 samples in the training data\n",
    "\n",
    "print(\"There are \" + str(X_test.shape[0]) + \" samples in the test data\")\n",
    "# There are 249 samples in the test data"
   ]
  },
  {
   "cell_type": "code",
   "execution_count": 8,
   "metadata": {},
   "outputs": [],
   "source": [
    "def ts_train_test_normalize(all_data, time_steps, for_periods):\n",
    "    \"\"\"\n",
    "    input: \n",
    "        data: dataframe with dates and price data\n",
    "    output: \n",
    "        X_train, y_train: data from 2013/1/1-2018/12/31 \n",
    "        X_test : data from 2019- \n",
    "        sc :     insantiated MinMaxScaler object fit to the training data \n",
    "    \"\"\"\n",
    "    # create training and test set \n",
    "    ts_train = all_data[:'2018'].iloc[:,0:1].values\n",
    "    ts_test = all_data['2019':].iloc[:,0:1].values \n",
    "    ts_train_len = len(ts_train)\n",
    "    ts_test_len = len(ts_test)\n",
    "    \n",
    "    # scale the data \n",
    "    from sklearn.preprocessing import MinMaxScaler \n",
    "    sc = MinMaxScaler(feature_range=(0,1))\n",
    "    ts_train_scaled = sc.fit_transform(ts_train)\n",
    "    \n",
    "    # create training data of s samples and t time steps \n",
    "    X_train = [] \n",
    "    y_train = [] \n",
    "    for i in range(time_steps, ts_train_len-1):\n",
    "        X_train.append(ts_train_scaled[i-time_steps:i, 0])\n",
    "        y_train.append(ts_train_scaled[i:i+for_periods, 0])\n",
    "    X_train, y_train = np.array(X_train), np.array(y_train)\n",
    "    \n",
    "    # Reshaping X_train for efficient modelling \n",
    "    X_train = np.reshape(X_train, (X_train.shape[0], X_train.shape[1], 1 ))\n",
    "    \n",
    "    inputs = pd.concat((all_data[\"Adj Close\"][:'2018'], all_data[\"Adj Close\"]['2019':]), axis=0).values\n",
    "    inputs = inputs[len(inputs)-len(ts_test)-time_steps:]\n",
    "    inputs = inputs.reshape(-1,1)\n",
    "    inputs = sc.transform(inputs)\n",
    "    \n",
    "    # Preparing X_test \n",
    "    X_test = [] \n",
    "    for i in range(time_steps, ts_test_len + time_steps - for_periods):\n",
    "        X_test.append(inputs[i-time_steps:i,0])\n",
    "    \n",
    "    X_test = np.array(X_test)\n",
    "    X_test = np.reshape(X_test, (X_test.shape[0], X_test.shape[1], 1))\n",
    "    \n",
    "    return X_train, y_train , X_test, sc "
   ]
  },
  {
   "cell_type": "code",
   "execution_count": 9,
   "metadata": {},
   "outputs": [
    {
     "data": {
      "text/plain": [
       "(1504, 5)"
      ]
     },
     "execution_count": 9,
     "metadata": {},
     "output_type": "execute_result"
    }
   ],
   "source": [
    "X_train, y_train, X_test, sc = ts_train_test_normalize(all_data, 5,2)\n",
    "X_train.shape[0], X_train.shape[1]"
   ]
  },
  {
   "cell_type": "code",
   "execution_count": 11,
   "metadata": {},
   "outputs": [
    {
     "name": "stdout",
     "output_type": "stream",
     "text": [
      "There are 1504 samples in the training data\n",
      "There are 249 samples in the test data\n"
     ]
    }
   ],
   "source": [
    "# Convert the 3D shape of X_train to a data frame so we can see: \n",
    "X_train_see = pd.DataFrame(np.reshape(X_train, (X_train.shape[0], X_train.shape[1])))\n",
    "y_train_see = pd.DataFrame(y_train)\n",
    "pd.concat([X_train_see, y_train_see], axis = 1)\n",
    "\n",
    "# Convert the 3D shape of X_test to a data frame so we can see: \n",
    "X_test_see = pd.DataFrame(np.reshape(X_test, (X_test.shape[0], X_test.shape[1])))\n",
    "pd.DataFrame(X_test_see)\n",
    "\n",
    "print(\"There are \" + str(X_train.shape[0]) + \" samples in the training data\")\n",
    "print(\"There are \" + str(X_test.shape[0]) + \" samples in the test data\")"
   ]
  },
  {
   "cell_type": "markdown",
   "metadata": {},
   "source": [
    "![image](https://img1.daumcdn.net/thumb/R1280x0/?scode=mtistory2&fname=https%3A%2F%2Fblog.kakaocdn.net%2Fdn%2FYg4ZQ%2Fbtq01rdsR9T%2F9LzqQhxjAqzrilam8PyXY1%2Fimg.png)"
   ]
  },
  {
   "cell_type": "markdown",
   "metadata": {},
   "source": [
    "## 4. LSTM 모델"
   ]
  },
  {
   "cell_type": "code",
   "execution_count": 22,
   "metadata": {},
   "outputs": [],
   "source": [
    "def LSTM_model(X_train, y_train, X_test, sc):\n",
    "    # create a model\n",
    "    from keras.models import Sequential\n",
    "    from keras.layers import Dense, SimpleRNN, GRU, LSTM\n",
    "    from keras.optimizers.legacy import SGD\n",
    "    \n",
    "    # The LSTM architecture\n",
    "    my_LSTM_model = Sequential()\n",
    "    my_LSTM_model.add(LSTM(units = 50, \n",
    "                           return_sequences = True, \n",
    "                           input_shape = (X_train.shape[1],1), \n",
    "                           activation = 'tanh'))\n",
    "    my_LSTM_model.add(LSTM(units = 50, activation = 'tanh'))\n",
    "    my_LSTM_model.add(Dense(units=2))\n",
    "    \n",
    "    # Compiling \n",
    "    my_LSTM_model.compile(optimizer = SGD(lr = 0.01, decay = 1e-7, \n",
    "                                          momentum = 0.9, nesterov = False),\n",
    "                          loss = 'mean_squared_error')\n",
    "    \n",
    "    # Fitting to the training set \n",
    "    my_LSTM_model.fit(X_train, y_train, epochs = 50, batch_size = 150, verbose = 0)\n",
    "    \n",
    "    LSTM_prediction = my_LSTM_model.predict(X_test)\n",
    "    LSTM_prediction = sc.inverse_transform(LSTM_prediction)\n",
    "    \n",
    "    return my_LSTM_model, LSTM_prediction "
   ]
  },
  {
   "cell_type": "markdown",
   "metadata": {},
   "source": [
    "momentum - nesterov\n",
    "\n",
    "-----\n",
    "![image](https://github.com/skywalker023/blog_images/blob/master/optimization/nesterov_momentum.png?raw=true)"
   ]
  },
  {
   "cell_type": "code",
   "execution_count": 23,
   "metadata": {},
   "outputs": [],
   "source": [
    "def actual_pred_plot(preds):\n",
    "    \"\"\"\n",
    "    Plot the actual vs predition\n",
    "    \"\"\"\n",
    "    actual_pred = pd.DataFrame(columns = ['Adj. Close', 'prediction'])\n",
    "    actual_pred['Adj. Close'] = all_data.loc['2019':,'Adj Close'][0:len(preds)]\n",
    "    actual_pred['prediction'] = preds[:,0]\n",
    "    \n",
    "    from keras.metrics import MeanSquaredError \n",
    "    m = MeanSquaredError()\n",
    "    m.update_state(np.array(actual_pred['Adj. Close']), np.array(actual_pred['prediction']))\n",
    "    \n",
    "    return (m.result().numpy(), actual_pred.plot())"
   ]
  },
  {
   "cell_type": "code",
   "execution_count": 24,
   "metadata": {},
   "outputs": [
    {
     "name": "stderr",
     "output_type": "stream",
     "text": [
      "/Users/b06/miniforge3/envs/yeardream/lib/python3.10/site-packages/keras/src/optimizers/legacy/gradient_descent.py:114: UserWarning: The `lr` argument is deprecated, use `learning_rate` instead.\n",
      "  super().__init__(name, **kwargs)\n"
     ]
    },
    {
     "name": "stdout",
     "output_type": "stream",
     "text": [
      "8/8 [==============================] - 0s 1ms/step\n"
     ]
    },
    {
     "data": {
      "text/plain": [
       "(5.1627917, <Axes: xlabel='Date'>)"
      ]
     },
     "execution_count": 24,
     "metadata": {},
     "output_type": "execute_result"
    },
    {
     "data": {
      "image/png": "[encoded data removed]",
      "text/plain": [
       "<Figure size 640x480 with 1 Axes>"
      ]
     },
     "metadata": {},
     "output_type": "display_data"
    }
   ],
   "source": [
    "my_LSTM_model, LSTM_prediction = LSTM_model(X_train, y_train, X_test, sc)\n",
    "LSTM_prediction[1:10]\n",
    "actual_pred_plot(LSTM_prediction)"
   ]
  },
  {
   "cell_type": "code",
   "execution_count": 25,
   "metadata": {},
   "outputs": [],
   "source": [
    "y_pred = pd.DataFrame(LSTM_prediction[:, 0])\n",
    "y_test=all_data.loc['2019':,'Adj Close'][0:len(LSTM_prediction)]\n",
    "y_test.reset_index(drop=True, inplace=True)"
   ]
  },
  {
   "cell_type": "code",
   "execution_count": 26,
   "metadata": {},
   "outputs": [],
   "source": [
    "from sklearn.metrics import mean_absolute_error, mean_squared_error, mean_squared_log_error, r2_score\n",
    "\n",
    "def confirm_result(y_test, y_pred):\n",
    "    MAE = mean_absolute_error(y_test, y_pred)\n",
    "    RMSE = np.sqrt(mean_squared_error(y_test, y_pred))\n",
    "    MSLE = mean_squared_log_error(y_test, y_pred)\n",
    "    RMSLE = np.sqrt(mean_squared_log_error(y_test, y_pred))\n",
    "    R2 = r2_score(y_test, y_pred)\n",
    "    \n",
    "    pd.options.display.float_format = '{:.5f}'.format\n",
    "    Result = pd.DataFrame(data=[MAE,RMSE, RMSLE, R2],\n",
    "                         index = ['MAE','RMSE', 'RMSLE', 'R2'],\n",
    "                         columns=['Results'])\n",
    "    return Result"
   ]
  },
  {
   "cell_type": "code",
   "execution_count": 27,
   "metadata": {},
   "outputs": [
    {
     "data": {
      "text/html": [
       "<div>\n",
       "<style scoped>\n",
       "    .dataframe tbody tr th:only-of-type {\n",
       "        vertical-align: middle;\n",
       "    }\n",
       "\n",
       "    .dataframe tbody tr th {\n",
       "        vertical-align: top;\n",
       "    }\n",
       "\n",
       "    .dataframe thead th {\n",
       "        text-align: right;\n",
       "    }\n",
       "</style>\n",
       "<table border=\"1\" class=\"dataframe\">\n",
       "  <thead>\n",
       "    <tr style=\"text-align: right;\">\n",
       "      <th></th>\n",
       "      <th>Results</th>\n",
       "    </tr>\n",
       "  </thead>\n",
       "  <tbody>\n",
       "    <tr>\n",
       "      <th>MAE</th>\n",
       "      <td>1.82873</td>\n",
       "    </tr>\n",
       "    <tr>\n",
       "      <th>RMSE</th>\n",
       "      <td>2.27218</td>\n",
       "    </tr>\n",
       "    <tr>\n",
       "      <th>RMSLE</th>\n",
       "      <td>0.02516</td>\n",
       "    </tr>\n",
       "    <tr>\n",
       "      <th>R2</th>\n",
       "      <td>0.79936</td>\n",
       "    </tr>\n",
       "  </tbody>\n",
       "</table>\n",
       "</div>"
      ],
      "text/plain": [
       "       Results\n",
       "MAE    1.82873\n",
       "RMSE   2.27218\n",
       "RMSLE  0.02516\n",
       "R2     0.79936"
      ]
     },
     "execution_count": 27,
     "metadata": {},
     "output_type": "execute_result"
    }
   ],
   "source": [
    "confirm_result(y_test, y_pred)"
   ]
  },
  {
   "cell_type": "markdown",
   "metadata": {},
   "source": [
    "## 5. GRU 모델\n",
    "- LSTM 과의 차이점 : cell state와 output gate 가 없음 --> LSTM 보다 파라미터가 적음"
   ]
  },
  {
   "cell_type": "code",
   "execution_count": 29,
   "metadata": {},
   "outputs": [],
   "source": [
    "def GRU_model(X_train, y_train, X_test, sc):\n",
    "    # create a model \n",
    "    from keras.models import Sequential \n",
    "    from keras.layers import Dense, SimpleRNN, GRU\n",
    "    from keras.optimizers.legacy import SGD \n",
    "    \n",
    "    # The GRU architecture \n",
    "    my_GRU_model = Sequential()\n",
    "    my_GRU_model.add(GRU(units = 50, \n",
    "                         return_sequences = True, \n",
    "                         input_shape = (X_train.shape[1],1), \n",
    "                         activation = 'tanh'))\n",
    "    my_GRU_model.add(GRU(units = 50, \n",
    "                         activation = 'tanh'))\n",
    "    my_GRU_model.add(Dense(units = 2))\n",
    "    \n",
    "    # Compiling the RNN \n",
    "    my_GRU_model.compile(optimizer = SGD(lr = 0.01, decay = 1e-7, \n",
    "                                         momentum = 0.9, nesterov = False), \n",
    "                         loss = 'mean_squared_error')\n",
    "    \n",
    "    # Fitting to the trainig set \n",
    "    my_GRU_model.fit(X_train, y_train, epochs = 50, batch_size = 150, verbose = 0)\n",
    "    \n",
    "    GRU_prediction = my_GRU_model.predict(X_test)\n",
    "    GRU_prediction = sc.inverse_transform(GRU_prediction)\n",
    "    \n",
    "    return my_GRU_model, GRU_prediction "
   ]
  },
  {
   "cell_type": "code",
   "execution_count": null,
   "metadata": {},
   "outputs": [],
   "source": []
  }
 ],
 "metadata": {
  "kernelspec": {
   "display_name": "Python 3",
   "language": "python",
   "name": "python3"
  },
  "language_info": {
   "codemirror_mode": {
    "name": "ipython",
    "version": 3
   },
   "file_extension": ".py",
   "mimetype": "text/x-python",
   "name": "python",
   "nbconvert_exporter": "python",
   "pygments_lexer": "ipython3",
   "version": "3.10.9"
  },
  "orig_nbformat": 4
 },
 "nbformat": 4,
 "nbformat_minor": 2
}
